{
 "metadata": {
  "language_info": {
   "codemirror_mode": {
    "name": "ipython",
    "version": 3
   },
   "file_extension": ".py",
   "mimetype": "text/x-python",
   "name": "python",
   "nbconvert_exporter": "python",
   "pygments_lexer": "ipython3",
   "version": "3.8.8"
  },
  "orig_nbformat": 2,
  "kernelspec": {
   "name": "python388jvsc74a57bd0e3cc630a27171bda4963781135d38e3c4b2db62d9414523c30df1024dbff97fb",
   "display_name": "Python 3.8.8 64-bit ('venv': venv)"
  }
 },
 "nbformat": 4,
 "nbformat_minor": 2,
 "cells": [
  {
   "cell_type": "code",
   "execution_count": 1,
   "metadata": {},
   "outputs": [],
   "source": [
    "import nltk\n",
    "from nltk import word_tokenize\n",
    "from nltk.corpus import stopwords\n",
    "from nltk.stem import PorterStemmer\n",
    "\n",
    "from sklearn.feature_extraction.text import CountVectorizer\n",
    "from sklearn.linear_model import LogisticRegression\n",
    "from sklearn.model_selection import train_test_split\n",
    "\n",
    "import pandas as pd\n",
    "from bs4 import BeautifulSoup as bs4\n",
    "import numpy as np"
   ]
  },
  {
   "cell_type": "code",
   "execution_count": 2,
   "metadata": {},
   "outputs": [],
   "source": [
    "df = pd.read_csv('spam_clean.csv', usecols=[\"spam\", \"clean\"])\n",
    "df.dropna(axis=0, how='any', thresh=None, subset=None, inplace=True) # removing NaNs\n",
    "\n",
    "X_train, X_test, y_train, y_test = train_test_split(df['clean'], df['spam'], test_size=0.2)\n",
    "\n",
    "# Bag of Words\n",
    "bow = CountVectorizer()\n",
    "X_train = bow.fit_transform(X_train)\n",
    "X_test = bow.transform(X_test)"
   ]
  },
  {
   "cell_type": "code",
   "execution_count": 3,
   "metadata": {},
   "outputs": [
    {
     "output_type": "stream",
     "name": "stderr",
     "text": [
      "[Parallel(n_jobs=1)]: Using backend SequentialBackend with 1 concurrent workers.\n[Parallel(n_jobs=1)]: Done   1 out of   1 | elapsed:    0.1s remaining:    0.0s\n[Parallel(n_jobs=1)]: Done   1 out of   1 | elapsed:    0.1s finished\n"
     ]
    },
    {
     "output_type": "execute_result",
     "data": {
      "text/plain": [
       "LogisticRegression(max_iter=1000, verbose=2)"
      ]
     },
     "metadata": {},
     "execution_count": 3
    }
   ],
   "source": [
    "# BoW\n",
    "logreg = LogisticRegression(max_iter=1000, verbose=2)\n",
    "logreg.fit(X_train, y_train)"
   ]
  },
  {
   "cell_type": "code",
   "execution_count": 42,
   "metadata": {},
   "outputs": [],
   "source": [
    "test_spam = 'Urgent! Please call 09061743810 from landline. Your ABTA complimentary 4* Tenerife Holiday or #5000 cash await collection SAE T&Cs Box 326 CW25WX 150 ppm'"
   ]
  },
  {
   "cell_type": "code",
   "execution_count": 43,
   "metadata": {},
   "outputs": [
    {
     "output_type": "stream",
     "name": "stdout",
     "text": [
      "[1]\n0.9566499301106898\n"
     ]
    }
   ],
   "source": [
    "def into_bow(text):\n",
    "    stops = stopwords.words(\"english\")\n",
    "    porter = PorterStemmer()\n",
    "    text = bs4(text).get_text()\n",
    "    words = word_tokenize(text)\n",
    "    words_no_punc = [word.lower() for word in words if word.isalpha()]\n",
    "    no_stop = [word for word in words_no_punc if word not in stops]\n",
    "    stems = [porter.stem(word) for word in no_stop]\n",
    "    clean = ' '.join(stems)\n",
    "\n",
    "    spam_bow = bow.transform([text])\n",
    "\n",
    "    return spam_bow\n",
    "\n",
    "spam = into_bow(test_spam)\n",
    "\n",
    "print(logreg.predict(spam))\n",
    "print(logreg.predict_proba(spam)[0,1])"
   ]
  },
  {
   "cell_type": "code",
   "execution_count": null,
   "metadata": {},
   "outputs": [],
   "source": []
  }
 ]
}